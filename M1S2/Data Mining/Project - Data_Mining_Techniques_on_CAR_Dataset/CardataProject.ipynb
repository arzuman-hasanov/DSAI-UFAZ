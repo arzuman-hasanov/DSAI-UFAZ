{
 "cells": [
  {
   "cell_type": "markdown",
   "id": "a0e0e843",
   "metadata": {},
   "source": [
    "<h1>Data Mining Project</h1>\n",
    "\n",
    "This project aims at applying data mining techniques to the dataset <b>‘CAR’</b>.\n",
    "To apply data mining techniques on <b>'CAR'</b> dataset we need to install some necessary libraries"
   ]
  },
  {
   "cell_type": "code",
   "execution_count": 1,
   "id": "9ab1138c-ef8c-4aa1-9cbb-cdc9b754a154",
   "metadata": {},
   "outputs": [],
   "source": [
    "# Install necessary libraries\n",
    "\n",
    "# !pip install spmf\n",
    "# !pip install mlxtend\n",
    "# !pip install pyECLAT"
   ]
  },
  {
   "cell_type": "markdown",
   "id": "aff57165",
   "metadata": {},
   "source": [
    "As <b>Pandas</b> provides easy-to-use functions to load data from various file formats such as CSV, Excel, SQL databases, etc. in our case, we need to load the 'CAR' dataset from a CSV file into a pandas DataFrame."
   ]
  },
  {
   "cell_type": "code",
   "execution_count": 2,
   "id": "75942dbf",
   "metadata": {},
   "outputs": [],
   "source": [
    "import pandas as pd"
   ]
  },
  {
   "cell_type": "code",
   "execution_count": 3,
   "id": "90363404-af6a-42bf-a1f8-b6ac6b8a9966",
   "metadata": {},
   "outputs": [
    {
     "name": "stdout",
     "output_type": "stream",
     "text": [
      "(1727, 7)\n",
      "Index(['buying', 'maintenance', 'doors', 'persons', 'lug_boot', 'safety',\n",
      "       'class'],\n",
      "      dtype='object')\n"
     ]
    }
   ],
   "source": [
    "# Load the dataset\n",
    "df = pd.read_csv(\"car.data\")\n",
    "df.columns = ['buying', 'maintenance', 'doors', 'persons', 'lug_boot', 'safety', 'class']\n",
    "\n",
    "print(df.shape)\n",
    "print(df.columns)"
   ]
  },
  {
   "cell_type": "markdown",
   "id": "8601e6f3",
   "metadata": {},
   "source": [
    "<h1>Data Preprocessing</h1>"
   ]
  },
  {
   "cell_type": "code",
   "execution_count": 4,
   "id": "95f05dfc",
   "metadata": {},
   "outputs": [
    {
     "name": "stdout",
     "output_type": "stream",
     "text": [
      "We have 0 missing value in the dataset\n"
     ]
    }
   ],
   "source": [
    "# Check dataset for missing value\n",
    "\n",
    "before = df.shape[0]\n",
    "df = df.dropna()\n",
    "after = df.shape[0]\n",
    "print(\"We have\", before - after, \"missing value in the dataset\")"
   ]
  },
  {
   "cell_type": "code",
   "execution_count": 5,
   "id": "c88e42ed",
   "metadata": {},
   "outputs": [
    {
     "name": "stdout",
     "output_type": "stream",
     "text": [
      "      buying  maintenance  doors  persons  lug_boot  safety  class\n",
      "0          0            4      8       12        15      18     21\n",
      "1          0            4      8       12        15      19     21\n",
      "2          0            4      8       12        16      20     21\n",
      "3          0            4      8       12        16      18     21\n",
      "4          0            4      8       12        16      19     21\n",
      "...      ...          ...    ...      ...       ...     ...    ...\n",
      "1722       3            7     11       14        16      18     24\n",
      "1723       3            7     11       14        16      19     23\n",
      "1724       3            7     11       14        17      20     21\n",
      "1725       3            7     11       14        17      18     24\n",
      "1726       3            7     11       14        17      19     23\n",
      "\n",
      "[1727 rows x 7 columns]\n"
     ]
    }
   ],
   "source": [
    "mapping = []\n",
    "for column in df.columns:\n",
    "    uniq = df[column].unique()\n",
    "    start = len(mapping)\n",
    "    for index,u in enumerate(uniq):\n",
    "        mapping.append([column,u,start + index])\n",
    "    \n",
    "\n",
    "# for all columns replace all cell values with integers from mapping\n",
    "\n",
    "# Create a dictionary to facilitate the mapping\n",
    "mapping_dict = {(item[0], item[1]): item[2] for item in mapping}\n",
    "\n",
    "# Replace values in the DataFrame according to the mapping array\n",
    "for column in df.columns:\n",
    "    df[column] = df[column].map(lambda x: mapping_dict[(column, x)])\n",
    "\n",
    "print(df)\n"
   ]
  },
  {
   "cell_type": "markdown",
   "id": "5887e250",
   "metadata": {},
   "source": [
    "<h1>Class Imbalance</h1>"
   ]
  },
  {
   "cell_type": "code",
   "execution_count": 6,
   "id": "5ddcc48e",
   "metadata": {},
   "outputs": [
    {
     "data": {
      "image/png": "[encoded data removed]",
      "text/plain": [
       "<Figure size 800x600 with 1 Axes>"
      ]
     },
     "metadata": {},
     "output_type": "display_data"
    }
   ],
   "source": [
    "import matplotlib.pyplot as plt\n",
    "\n",
    "# Count the number of samples for each class\n",
    "class_counts = df['class'].value_counts()\n",
    "\n",
    "# Plot the class distribution\n",
    "plt.figure(figsize=(8, 6))\n",
    "class_counts.plot(kind='bar', color='skyblue')\n",
    "plt.title('Class Distribution')\n",
    "plt.xlabel('Class')\n",
    "plt.ylabel('Number of Samples')\n",
    "plt.xticks(rotation=45)\n",
    "plt.grid(axis='y', linestyle='--', alpha=0.7)\n",
    "plt.show()\n"
   ]
  },
  {
   "cell_type": "markdown",
   "id": "3e8824c8",
   "metadata": {},
   "source": [
    "To avoid imbalancing we use undersampling technique"
   ]
  },
  {
   "cell_type": "code",
   "execution_count": 7,
   "id": "dbb48794",
   "metadata": {},
   "outputs": [
    {
     "name": "stdout",
     "output_type": "stream",
     "text": [
      "Class distribution after undersampling:\n",
      "21    65\n",
      "22    65\n",
      "23    65\n",
      "24    65\n",
      "Name: class, dtype: int64\n"
     ]
    }
   ],
   "source": [
    "from imblearn.under_sampling import RandomUnderSampler\n",
    "\n",
    "# Define the features (X) and target variable (y)\n",
    "X = df.drop(columns=['class'])\n",
    "y = df['class']\n",
    "\n",
    "# Undersampling\n",
    "undersampler = RandomUnderSampler(random_state=42)\n",
    "X_resampled, y_resampled = undersampler.fit_resample(X, y)\n",
    "\n",
    "# Check the class distribution after undersampling\n",
    "print(\"Class distribution after undersampling:\")\n",
    "print(y_resampled.value_counts())\n"
   ]
  },
  {
   "cell_type": "code",
   "execution_count": 8,
   "id": "cf5231a1",
   "metadata": {},
   "outputs": [
    {
     "data": {
      "text/plain": [
       "array([[ 0,  4, 11, 14, 16, 20],\n",
       "       [ 1,  4, 10, 14, 15, 18],\n",
       "       [ 0,  7,  9, 12, 15, 19],\n",
       "       ...,\n",
       "       [ 3,  6,  9, 14, 15, 19],\n",
       "       [ 2,  7,  9, 14, 16, 18],\n",
       "       [ 3,  6, 11, 13, 16, 18]], dtype=int64)"
      ]
     },
     "execution_count": 8,
     "metadata": {},
     "output_type": "execute_result"
    }
   ],
   "source": [
    "X_resampled.values"
   ]
  },
  {
   "cell_type": "markdown",
   "id": "7de21996",
   "metadata": {},
   "source": [
    "To compare algorithms from three different paradigms, we choose:\n",
    "<ul>\n",
    "    <li><h6>Apriori:</h6> Level-based algorithm</li>\n",
    "    <li><h6>FP-Growth:</h6> Depth-based algorithm</li>\n",
    "    <li><h6>Eclat:</h6> Vertical data format-based algorithm</li>\n",
    "</ul>\n",
    "\n",
    "As SPMF did not give expected results for algorithms, we use <b>mlxtend</b> library for Apriori and FP-Growth"
   ]
  },
  {
   "cell_type": "code",
   "execution_count": 9,
   "id": "ea66ff36",
   "metadata": {},
   "outputs": [
    {
     "name": "stdout",
     "output_type": "stream",
     "text": [
      ">/C:/Users/rvani/Downloads/spmf.jar\r\n",
      "=============  APRIORI - STATS =============\r\n",
      " Candidates count : 55\r\n",
      " The algorithm stopped at size 2\r\n",
      " Frequent itemsets count : 10\r\n",
      " Maximum memory usage : 8.442001342773438 mb\r\n",
      " Total time ~ 0 ms\r\n",
      "===================================================\r\n",
      "\n"
     ]
    }
   ],
   "source": [
    "spmf_bin_location_dir = \"C:\\\\Users\\\\rvani\\\\Downloads\"\n",
    "\n",
    "import os\n",
    "from spmf import Spmf\n",
    "\n",
    "# Convert DataFrame into a string format representing sequences\n",
    "sequences_str = \"\\n\".join(\" \".join(map(str, row)) for row in X_resampled.values)\n",
    "\n",
    "# Create a temporary file to store the input data\n",
    "with open(\"input.txt\", \"w\") as f:\n",
    "    f.write(sequences_str)\n",
    "\n",
    "\n",
    "# Set the minimum support threshold (adjust as needed)\n",
    "min_support = 0.3\n",
    "\n",
    "# Convert min_support to double value\n",
    "min_support_double = float(min_support)\n",
    "\n",
    "# Run Apriori algorithm using SPMF\n",
    "spmf_instance = Spmf(algorithm_name=\"Apriori\", input_filename=\"input.txt\", output_filename=\"output_apriori.txt\", spmf_bin_location_dir=spmf_bin_location_dir, arguments=[f\"{min_support_double}\"])\n",
    "spmf_instance.run()\n",
    "\n",
    "# Parse the output file to obtain frequent itemsets\n",
    "frequent_itemsets = []\n",
    "with open(\"output_apriori.txt\", \"r\") as f:\n",
    "    for line in f:\n",
    "        frequent_itemsets.append(line.strip())\n",
    "\n",
    "# Remove temporary files\n",
    "os.remove(\"input.txt\")\n"
   ]
  },
  {
   "cell_type": "code",
   "execution_count": 10,
   "id": "3d84a1ab",
   "metadata": {},
   "outputs": [
    {
     "name": "stdout",
     "output_type": "stream",
     "text": [
      ">/C:/Users/rvani/Downloads/spmf.jar\r\n",
      "=============  FP-GROWTH 2.42 - STATS =============\r\n",
      " Transactions count from database : 260\r\n",
      " Max memory usage: 8.882110595703125 mb \n",
      " Frequent itemsets count : 10\r\n",
      " Total time ~ 16 ms\r\n",
      "===================================================\r\n",
      "\n"
     ]
    }
   ],
   "source": [
    "# Convert DataFrame into a string format representing sequences\n",
    "sequences_str = \"\\n\".join(\" \".join(map(str, row)) for row in X_resampled.values)\n",
    "\n",
    "# Create a temporary file to store the input data\n",
    "with open(\"input.txt\", \"w\") as f:\n",
    "    f.write(sequences_str)\n",
    "\n",
    "# Set the minimum support threshold (adjust as needed)\n",
    "min_support = 0.3\n",
    "\n",
    "# Convert min_support to double value\n",
    "min_support_double = float(min_support)\n",
    "\n",
    "# Run FP-Growth algorithm using SPMF\n",
    "spmf_instance = Spmf(algorithm_name=\"FPGrowth_itemsets\", input_filename=\"input.txt\", output_filename=\"output_FPGrowth_itemsets.txt\", spmf_bin_location_dir=spmf_bin_location_dir, arguments=[f\"{min_support_double}\"])\n",
    "spmf_instance.run()\n",
    "\n",
    "# Parse the output file to obtain frequent itemsets\n",
    "frequent_itemsets_fp = []\n",
    "with open(\"output_FPGrowth_itemsets.txt\", \"r\") as f:\n",
    "    for line in f:\n",
    "        frequent_itemsets_fp.append(line.strip())\n",
    "\n",
    "\n",
    "# Remove temporary files\n",
    "os.remove(\"input.txt\")\n"
   ]
  },
  {
   "cell_type": "code",
   "execution_count": 11,
   "id": "63bb432a",
   "metadata": {},
   "outputs": [
    {
     "name": "stdout",
     "output_type": "stream",
     "text": [
      ">/C:/Users/rvani/Downloads/spmf.jar\r\n",
      "=============  ECLAT v0.96r18 - STATS =============\r\n",
      " Transactions count from database : 260\r\n",
      " Frequent itemsets count : 10\r\n",
      " Total time ~ 0 ms\r\n",
      " Maximum memory usage : 8.442085266113281 mb\r\n",
      "===================================================\r\n",
      "\n"
     ]
    }
   ],
   "source": [
    "# Convert DataFrame into a string format representing sequences\n",
    "sequences_str = \"\\n\".join(\" \".join(map(str, row)) for row in X_resampled.values)\n",
    "\n",
    "with open(\"input.txt\", \"w\") as f:\n",
    "    f.write(sequences_str)\n",
    "\n",
    "\n",
    "# Set the minimum support threshold (adjust as needed)\n",
    "min_support = 0.3\n",
    "\n",
    "# Convert min_support to double value\n",
    "min_support_double = float(min_support)\n",
    "\n",
    "# Run Apriori algorithm using SPMF\n",
    "spmf_instance = Spmf(algorithm_name=\"Eclat\", input_filename=\"temp_input.txt\", output_filename=\"output_eclat.txt\", spmf_bin_location_dir=spmf_bin_location_dir, arguments=[f\"{min_support_double}\"])\n",
    "spmf_instance.run()\n",
    "\n",
    "# Parse the output file to obtain frequent itemsets\n",
    "frequent_itemsets_eclat = []\n",
    "with open(\"output_eclat.txt\", \"r\") as f:\n",
    "    for line in f:\n",
    "        frequent_itemsets.append(line.strip())\n"
   ]
  },
  {
   "cell_type": "markdown",
   "id": "30fe70ef",
   "metadata": {},
   "source": [
    "<h1>Classification</h1>"
   ]
  },
  {
   "cell_type": "code",
   "execution_count": 12,
   "id": "9230c99b",
   "metadata": {},
   "outputs": [],
   "source": [
    "original_data = pd.read_csv('car.data')\n",
    "association_rules = pd.read_csv('Apriori_Rules.txt')"
   ]
  },
  {
   "cell_type": "code",
   "execution_count": 13,
   "id": "de098166",
   "metadata": {},
   "outputs": [
    {
     "name": "stdout",
     "output_type": "stream",
     "text": [
      "    13_13  3_0.4778761061946903  3_3  13_0.4909090909090909  19_19  \\\n",
      "0       1                     1    0                      0      0   \n",
      "1       0                     0    1                      1      0   \n",
      "2       0                     0    0                      0      1   \n",
      "3       0                     0    1                      0      0   \n",
      "4       0                     0    0                      0      1   \n",
      "5       0                     0    0                      0      0   \n",
      "6       0                     0    0                      0      1   \n",
      "7       1                     0    0                      0      0   \n",
      "8       0                     0    0                      0      0   \n",
      "9       0                     0    0                      0      0   \n",
      "10      0                     0    0                      0      1   \n",
      "11      0                     0    0                      0      0   \n",
      "12      0                     0    0                      0      1   \n",
      "13      0                     0    0                      0      0   \n",
      "\n",
      "    3_0.4676258992805755  19_0.5909090909090909  7_0.38848920863309355  7_7  \\\n",
      "0                      0                      0                      0    0   \n",
      "1                      0                      0                      0    0   \n",
      "2                      1                      0                      0    0   \n",
      "3                      0                      1                      0    0   \n",
      "4                      0                      0                      1    0   \n",
      "5                      0                      0                      0    1   \n",
      "6                      0                      0                      0    0   \n",
      "7                      0                      0                      0    0   \n",
      "8                      0                      0                      0    0   \n",
      "9                      0                      0                      0    0   \n",
      "10                     0                      0                      0    0   \n",
      "11                     0                      0                      0    0   \n",
      "12                     0                      0                      0    0   \n",
      "13                     0                      0                      0    0   \n",
      "\n",
      "    19_0.5625  ...  19_0.5575221238938053  16_16  14_0.5698924731182796  \\\n",
      "0           0  ...                      0      0                      0   \n",
      "1           0  ...                      0      0                      0   \n",
      "2           0  ...                      0      0                      0   \n",
      "3           0  ...                      0      0                      0   \n",
      "4           0  ...                      0      0                      0   \n",
      "5           1  ...                      0      0                      0   \n",
      "6           0  ...                      0      0                      0   \n",
      "7           0  ...                      1      0                      0   \n",
      "8           0  ...                      0      1                      1   \n",
      "9           0  ...                      0      0                      0   \n",
      "10          0  ...                      0      0                      0   \n",
      "11          0  ...                      0      0                      0   \n",
      "12          0  ...                      0      0                      0   \n",
      "13          0  ...                      0      0                      0   \n",
      "\n",
      "    14_14  16_0.424  14_0.48201438848920863  19_0.536  17_0.37410071942446044  \\\n",
      "0       0         0                       0         0                       0   \n",
      "1       0         0                       0         0                       0   \n",
      "2       0         0                       0         0                       0   \n",
      "3       0         0                       0         0                       0   \n",
      "4       0         0                       0         0                       0   \n",
      "5       0         0                       0         0                       0   \n",
      "6       0         0                       0         0                       0   \n",
      "7       0         0                       0         0                       0   \n",
      "8       0         0                       0         0                       0   \n",
      "9       1         1                       0         0                       0   \n",
      "10      0         0                       1         0                       0   \n",
      "11      1         0                       0         1                       0   \n",
      "12      0         0                       0         0                       1   \n",
      "13      0         0                       0         0                       0   \n",
      "\n",
      "    17_17  19_0.5  \n",
      "0       0       0  \n",
      "1       0       0  \n",
      "2       0       0  \n",
      "3       0       0  \n",
      "4       0       0  \n",
      "5       0       0  \n",
      "6       0       0  \n",
      "7       0       0  \n",
      "8       0       0  \n",
      "9       0       0  \n",
      "10      0       0  \n",
      "11      0       0  \n",
      "12      0       0  \n",
      "13      1       1  \n",
      "\n",
      "[14 rows x 21 columns]\n"
     ]
    }
   ],
   "source": [
    "# Read association rules from the text file\n",
    "with open('Apriori_Rules.txt', 'r') as file:\n",
    "    association_rules = file.readlines()\n",
    "\n",
    "# Initialize binary features dictionary\n",
    "binary_features = {}\n",
    "\n",
    "# Parse simplified association rules and generate binary features\n",
    "for rule in association_rules:\n",
    "    # Extract conditions from the rule\n",
    "    condition1, condition2 = rule.strip().split(' ==> ')\n",
    "    attribute1, value1 = condition1.split(' ')[0], condition1.split(' ')[-1]\n",
    "    attribute2, value2 = condition2.split(' ')[0], condition2.split(' ')[-1]\n",
    "    \n",
    "    # Generate binary features based on conditions\n",
    "    binary_feature_name1 = f\"{attribute1}_{value1}\"\n",
    "    binary_feature_name2 = f\"{attribute2}_{value2}\"\n",
    "    \n",
    "    # Ensure binary feature names are unique\n",
    "    if binary_feature_name1 not in binary_features:\n",
    "        binary_features[binary_feature_name1] = [0] * len(association_rules)  # Initialize binary feature list\n",
    "    if binary_feature_name2 not in binary_features:\n",
    "        binary_features[binary_feature_name2] = [0] * len(association_rules)  # Initialize binary feature list\n",
    "    \n",
    "    # Set binary feature to 1 for the corresponding rule\n",
    "    binary_features[binary_feature_name1][association_rules.index(rule)] = 1\n",
    "    binary_features[binary_feature_name2][association_rules.index(rule)] = 1\n",
    "\n",
    "# Convert binary features dictionary to DataFrame\n",
    "binary_features_df = pd.DataFrame(binary_features)\n",
    "print(binary_features_df)"
   ]
  },
  {
   "cell_type": "code",
   "execution_count": 14,
   "id": "94c391b4",
   "metadata": {},
   "outputs": [
    {
     "name": "stdout",
     "output_type": "stream",
     "text": [
      "Cluster Labels:\n",
      "[0 2 1 2 1 0 1 0 0 0 1 0 1 0]\n"
     ]
    },
    {
     "name": "stderr",
     "output_type": "stream",
     "text": [
      "C:\\Users\\rvani\\anaconda3\\Lib\\site-packages\\sklearn\\cluster\\_kmeans.py:1446: UserWarning: KMeans is known to have a memory leak on Windows with MKL, when there are less chunks than available threads. You can avoid it by setting the environment variable OMP_NUM_THREADS=1.\n",
      "  warnings.warn(\n"
     ]
    }
   ],
   "source": [
    "from sklearn.cluster import KMeans\n",
    "\n",
    "# Assuming binary_features_df is your DataFrame containing binary features\n",
    "# Perform KMeans clustering\n",
    "kmeans = KMeans(n_clusters=3, random_state=42)\n",
    "clusters = kmeans.fit_predict(binary_features_df)\n",
    "\n",
    "# Print cluster labels\n",
    "print(\"Cluster Labels:\")\n",
    "print(clusters)"
   ]
  },
  {
   "cell_type": "code",
   "execution_count": 15,
   "id": "5c65f26c",
   "metadata": {},
   "outputs": [],
   "source": [
    "import pandas as pd\n",
    "from sklearn.model_selection import train_test_split\n",
    "from sklearn.ensemble import RandomForestClassifier\n",
    "from sklearn.metrics import accuracy_score\n",
    "\n",
    "# Assuming you have a DataFrame named 'original_data' containing your original dataset\n",
    "original_dataset = pd.read_csv(\"car.data\")\n",
    "# Select features and target variable\n",
    "original_dataset.columns = [\"buying\", \"maint\", \"doors\", \"persons\", \"lug_boot\", \"safety\", \"class\"]\n",
    "\n",
    "# One-hot encode 'doors' column\n",
    "original_dataset = pd.get_dummies(original_dataset, columns=['doors'], drop_first=True)\n",
    "\n",
    "# Apply LabelEncoder to other categorical columns\n",
    "categorical_cols = [\"buying\", \"maint\", \"persons\", \"lug_boot\", \"safety\", \"class\"]\n",
    "for col in categorical_cols:\n",
    "    original_dataset[col] = original_dataset[col].astype('category').cat.codes\n",
    "\n",
    "# and a DataFrame named 'association_rules' containing the association rules\n",
    "\n"
   ]
  },
  {
   "cell_type": "code",
   "execution_count": 16,
   "id": "1ed57da9",
   "metadata": {},
   "outputs": [
    {
     "name": "stdout",
     "output_type": "stream",
     "text": [
      "Accuracy: 0.9421965317919075\n"
     ]
    }
   ],
   "source": [
    "X = original_dataset.drop(columns=[\"class\"])\n",
    "y = original_dataset[\"class\"]\n",
    "\n",
    "# Split data into train and test sets\n",
    "X_train, X_test, y_train, y_test = train_test_split(X, y, test_size=0.2, random_state=42)\n",
    "\n",
    "# Train a Random Forest classifier\n",
    "clf = RandomForestClassifier()\n",
    "clf.fit(X_train, y_train)\n",
    "\n",
    "# Make predictions\n",
    "y_pred = clf.predict(X_test)\n",
    "\n",
    "# Evaluate the model\n",
    "accuracy = accuracy_score(y_test, y_pred)\n",
    "print(\"Accuracy:\", accuracy)"
   ]
  },
  {
   "cell_type": "code",
   "execution_count": null,
   "id": "c2ef62ba",
   "metadata": {},
   "outputs": [],
   "source": []
  }
 ],
 "metadata": {
  "kernelspec": {
   "display_name": "Python 3 (ipykernel)",
   "language": "python",
   "name": "python3"
  },
  "language_info": {
   "codemirror_mode": {
    "name": "ipython",
    "version": 3
   },
   "file_extension": ".py",
   "mimetype": "text/x-python",
   "name": "python",
   "nbconvert_exporter": "python",
   "pygments_lexer": "ipython3",
   "version": "3.11.4"
  }
 },
 "nbformat": 4,
 "nbformat_minor": 5
}
