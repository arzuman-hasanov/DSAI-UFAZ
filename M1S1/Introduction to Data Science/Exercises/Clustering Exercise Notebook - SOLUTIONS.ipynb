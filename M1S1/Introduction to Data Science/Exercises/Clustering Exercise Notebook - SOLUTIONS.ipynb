{
 "cells": [
  {
   "cell_type": "markdown",
   "metadata": {
    "nbgrader": {
     "grade": false,
     "grade_id": "1",
     "locked": true,
     "schema_version": 1,
     "solution": false
    }
   },
   "source": [
    "<p style=\"font-family: Arial; font-size:3vw;color:purple; font-style:bold\"><br>\n",
    "Clustering Exercise Notebook Solutions\n",
    "</p><br>"
   ]
  },
  {
   "cell_type": "markdown",
   "metadata": {
    "nbgrader": {
     "grade": false,
     "grade_id": "c2",
     "locked": true,
     "schema_version": 1,
     "solution": false
    }
   },
   "source": [
    "# Exercise Notebook Instructions\n",
    "\n",
    "### 1. Important: Only modify the cells which instruct you to modify them - leave \"do not modify\" cells alone.  \n",
    "\n",
    "The code which tests your responses assumes you have run the startup/read-only code exactly.\n",
    "\n",
    "### 2. Work through the notebook in order.\n",
    "\n",
    "Some of the steps depend on previous, so you'll want to move through the notebook in order.\n",
    "\n",
    "### 3. It is okay to use numpy libraries.\n",
    "\n",
    "You may find some of these questions are fairly straightforward to answer using built-in numpy functions.  That's totally okay - part of the point of these exercises is to familiarize you with the commonly used numpy functions."
   ]
  },
  {
   "cell_type": "code",
   "execution_count": 1,
   "metadata": {
    "nbgrader": {
     "grade": false,
     "grade_id": "c3",
     "locked": true,
     "schema_version": 1,
     "solution": false
    },
    "scrolled": true
   },
   "outputs": [],
   "source": [
    "# DO NOT MODIFY\n",
    "\n",
    "# import appropriate libraries\n",
    "\n",
    "from sklearn.preprocessing import StandardScaler\n",
    "from sklearn.cluster import KMeans\n",
    "import pandas as pd\n",
    "import numpy as np"
   ]
  },
  {
   "cell_type": "code",
   "execution_count": 2,
   "metadata": {
    "nbgrader": {
     "grade": false,
     "grade_id": "c2c",
     "locked": true,
     "schema_version": 1,
     "solution": false
    },
    "scrolled": true
   },
   "outputs": [],
   "source": [
    "# DO NOT MODIFY\n",
    "\n",
    "# We will use the minute weather dataset for this exercise.\n",
    "\n",
    "def get_data():\n",
    "    return pd.read_csv('./weather/minute_weather.csv')\n",
    "\n",
    "df = get_data()"
   ]
  },
  {
   "cell_type": "markdown",
   "metadata": {
    "nbgrader": {
     "grade": false,
     "grade_id": "c445c",
     "locked": true,
     "schema_version": 1,
     "solution": false
    }
   },
   "source": [
    "<p style=\"font-family: Arial; font-size:2.75vw;color:purple; font-style:bold\"><br>\n",
    "\n",
    "Exercise 1: Sampling Down a Time Series Dataset<br><br></p>\n",
    "\n",
    "\n",
    "In the cell below, modify the function to RETURN a new dataframe that is \n",
    "sampled down by taking every k row only. For example, if k = 5, the \n",
    "function will take every 5th row and skip rows in between.\n",
    "\n",
    "The inputs to function are a dataframe and an integer k."
   ]
  },
  {
   "cell_type": "code",
   "execution_count": 3,
   "metadata": {
    "nbgrader": {
     "grade": false,
     "grade_id": "c555",
     "locked": false,
     "schema_version": 1,
     "solution": true
    },
    "scrolled": true
   },
   "outputs": [],
   "source": [
    "# modify this cell\n",
    "\n",
    "def down_sample(df, k):\n",
    "    ### BEGIN SOLUTION\n",
    "    new_df = df[(df['rowID'] % k) == 0]\n",
    "    return new_df\n",
    "    ### END SOLUTION"
   ]
  },
  {
   "cell_type": "code",
   "execution_count": 4,
   "metadata": {
    "nbgrader": {
     "grade": true,
     "grade_id": "ex15",
     "locked": true,
     "points": 1,
     "schema_version": 1,
     "solution": false
    },
    "scrolled": true
   },
   "outputs": [],
   "source": [
    "# DO NOT MODIFY\n",
    "ans = 10486\n",
    "\n",
    "try:\n",
    "    sampled_df = down_sample(df, 100)\n",
    "    assert np.alltrue(sampled_df.shape[0] == ans)\n",
    "except AssertionError as e: print(\"Try again, your output did not match the expected answer above\")"
   ]
  },
  {
   "cell_type": "markdown",
   "metadata": {
    "nbgrader": {
     "grade": false,
     "grade_id": "cc445",
     "locked": true,
     "schema_version": 1,
     "solution": false
    }
   },
   "source": [
    "<p style=\"font-family: Arial; font-size:2.75vw;color:purple; font-style:bold\"><br>\n",
    "\n",
    "Exercise 2: Data Cleaning<br><br></p>\n",
    "\n",
    "\n",
    "In the cell below, modify the function to do following tasks and RETURN a new data frame: (do not modify the input dataframe) <br><br>\n",
    "\n",
    "- delete column 'rain_accumulation'\n",
    "- delete column 'rain_duration'\n",
    "- delete rows that contain atleast one NULL"
   ]
  },
  {
   "cell_type": "code",
   "execution_count": 5,
   "metadata": {
    "nbgrader": {
     "grade": false,
     "grade_id": "5551",
     "locked": false,
     "schema_version": 1,
     "solution": true
    },
    "scrolled": true
   },
   "outputs": [],
   "source": [
    "# modify this cell\n",
    "\n",
    "def clean_data(df):\n",
    "    ### BEGIN SOLUTION\n",
    "    df_copy = df.copy()\n",
    "    del df_copy['rain_accumulation']\n",
    "    del df_copy['rain_duration']\n",
    "    return df_copy.dropna()\n",
    "    ### END SOLUTION"
   ]
  },
  {
   "cell_type": "code",
   "execution_count": 6,
   "metadata": {
    "nbgrader": {
     "grade": true,
     "grade_id": "ex151",
     "locked": true,
     "points": 1,
     "schema_version": 1,
     "solution": false
    },
    "scrolled": true
   },
   "outputs": [],
   "source": [
    "# DO NOT MODIFY\n",
    "\n",
    "try: \n",
    "    cleaned_df = clean_data(sampled_df)\n",
    "    assert np.alltrue(sampled_df.shape == (10486, 13))\n",
    "    assert np.alltrue(cleaned_df.shape == (10484, 11))\n",
    "except AssertionError as e: print(\"Try again ! Check both  clean_data and down_sample functions\")"
   ]
  },
  {
   "cell_type": "code",
   "execution_count": 7,
   "metadata": {
    "scrolled": true
   },
   "outputs": [
    {
     "data": {
      "text/html": [
       "<div>\n",
       "<style scoped>\n",
       "    .dataframe tbody tr th:only-of-type {\n",
       "        vertical-align: middle;\n",
       "    }\n",
       "\n",
       "    .dataframe tbody tr th {\n",
       "        vertical-align: top;\n",
       "    }\n",
       "\n",
       "    .dataframe thead th {\n",
       "        text-align: right;\n",
       "    }\n",
       "</style>\n",
       "<table border=\"1\" class=\"dataframe\">\n",
       "  <thead>\n",
       "    <tr style=\"text-align: right;\">\n",
       "      <th></th>\n",
       "      <th>rowID</th>\n",
       "      <th>air_pressure</th>\n",
       "      <th>air_temp</th>\n",
       "      <th>avg_wind_direction</th>\n",
       "      <th>avg_wind_speed</th>\n",
       "      <th>max_wind_direction</th>\n",
       "      <th>max_wind_speed</th>\n",
       "      <th>min_wind_direction</th>\n",
       "      <th>min_wind_speed</th>\n",
       "      <th>relative_humidity</th>\n",
       "    </tr>\n",
       "  </thead>\n",
       "  <tbody>\n",
       "    <tr>\n",
       "      <th>count</th>\n",
       "      <td>1.048400e+04</td>\n",
       "      <td>10484.000000</td>\n",
       "      <td>10484.000000</td>\n",
       "      <td>10484.000000</td>\n",
       "      <td>10484.000000</td>\n",
       "      <td>10484.000000</td>\n",
       "      <td>10484.000000</td>\n",
       "      <td>10484.000000</td>\n",
       "      <td>10484.000000</td>\n",
       "      <td>10484.000000</td>\n",
       "    </tr>\n",
       "    <tr>\n",
       "      <th>mean</th>\n",
       "      <td>5.242810e+05</td>\n",
       "      <td>916.897005</td>\n",
       "      <td>60.888712</td>\n",
       "      <td>160.658146</td>\n",
       "      <td>2.765548</td>\n",
       "      <td>162.042827</td>\n",
       "      <td>3.382354</td>\n",
       "      <td>167.155475</td>\n",
       "      <td>2.134376</td>\n",
       "      <td>48.881696</td>\n",
       "    </tr>\n",
       "    <tr>\n",
       "      <th>std</th>\n",
       "      <td>3.027146e+05</td>\n",
       "      <td>3.087339</td>\n",
       "      <td>12.029661</td>\n",
       "      <td>95.839184</td>\n",
       "      <td>2.026941</td>\n",
       "      <td>92.375856</td>\n",
       "      <td>2.366671</td>\n",
       "      <td>98.572942</td>\n",
       "      <td>1.736101</td>\n",
       "      <td>25.995527</td>\n",
       "    </tr>\n",
       "    <tr>\n",
       "      <th>min</th>\n",
       "      <td>0.000000e+00</td>\n",
       "      <td>905.100000</td>\n",
       "      <td>32.360000</td>\n",
       "      <td>0.000000</td>\n",
       "      <td>0.100000</td>\n",
       "      <td>0.000000</td>\n",
       "      <td>0.200000</td>\n",
       "      <td>0.000000</td>\n",
       "      <td>0.000000</td>\n",
       "      <td>1.500000</td>\n",
       "    </tr>\n",
       "    <tr>\n",
       "      <th>25%</th>\n",
       "      <td>2.621750e+05</td>\n",
       "      <td>914.800000</td>\n",
       "      <td>51.800000</td>\n",
       "      <td>61.000000</td>\n",
       "      <td>1.300000</td>\n",
       "      <td>68.000000</td>\n",
       "      <td>1.600000</td>\n",
       "      <td>74.000000</td>\n",
       "      <td>0.800000</td>\n",
       "      <td>26.100000</td>\n",
       "    </tr>\n",
       "    <tr>\n",
       "      <th>50%</th>\n",
       "      <td>5.242500e+05</td>\n",
       "      <td>916.700000</td>\n",
       "      <td>60.800000</td>\n",
       "      <td>182.000000</td>\n",
       "      <td>2.200000</td>\n",
       "      <td>186.000000</td>\n",
       "      <td>2.700000</td>\n",
       "      <td>181.000000</td>\n",
       "      <td>1.600000</td>\n",
       "      <td>46.200000</td>\n",
       "    </tr>\n",
       "    <tr>\n",
       "      <th>75%</th>\n",
       "      <td>7.864250e+05</td>\n",
       "      <td>918.800000</td>\n",
       "      <td>69.980000</td>\n",
       "      <td>217.000000</td>\n",
       "      <td>3.800000</td>\n",
       "      <td>223.000000</td>\n",
       "      <td>4.525000</td>\n",
       "      <td>211.000000</td>\n",
       "      <td>3.000000</td>\n",
       "      <td>69.300000</td>\n",
       "    </tr>\n",
       "    <tr>\n",
       "      <th>max</th>\n",
       "      <td>1.048500e+06</td>\n",
       "      <td>929.400000</td>\n",
       "      <td>96.440000</td>\n",
       "      <td>359.000000</td>\n",
       "      <td>20.100000</td>\n",
       "      <td>359.000000</td>\n",
       "      <td>20.900000</td>\n",
       "      <td>359.000000</td>\n",
       "      <td>19.500000</td>\n",
       "      <td>92.900000</td>\n",
       "    </tr>\n",
       "  </tbody>\n",
       "</table>\n",
       "</div>"
      ],
      "text/plain": [
       "              rowID  air_pressure      air_temp  avg_wind_direction  \\\n",
       "count  1.048400e+04  10484.000000  10484.000000        10484.000000   \n",
       "mean   5.242810e+05    916.897005     60.888712          160.658146   \n",
       "std    3.027146e+05      3.087339     12.029661           95.839184   \n",
       "min    0.000000e+00    905.100000     32.360000            0.000000   \n",
       "25%    2.621750e+05    914.800000     51.800000           61.000000   \n",
       "50%    5.242500e+05    916.700000     60.800000          182.000000   \n",
       "75%    7.864250e+05    918.800000     69.980000          217.000000   \n",
       "max    1.048500e+06    929.400000     96.440000          359.000000   \n",
       "\n",
       "       avg_wind_speed  max_wind_direction  max_wind_speed  min_wind_direction  \\\n",
       "count    10484.000000        10484.000000    10484.000000        10484.000000   \n",
       "mean         2.765548          162.042827        3.382354          167.155475   \n",
       "std          2.026941           92.375856        2.366671           98.572942   \n",
       "min          0.100000            0.000000        0.200000            0.000000   \n",
       "25%          1.300000           68.000000        1.600000           74.000000   \n",
       "50%          2.200000          186.000000        2.700000          181.000000   \n",
       "75%          3.800000          223.000000        4.525000          211.000000   \n",
       "max         20.100000          359.000000       20.900000          359.000000   \n",
       "\n",
       "       min_wind_speed  relative_humidity  \n",
       "count    10484.000000       10484.000000  \n",
       "mean         2.134376          48.881696  \n",
       "std          1.736101          25.995527  \n",
       "min          0.000000           1.500000  \n",
       "25%          0.800000          26.100000  \n",
       "50%          1.600000          46.200000  \n",
       "75%          3.000000          69.300000  \n",
       "max         19.500000          92.900000  "
      ]
     },
     "execution_count": 7,
     "metadata": {},
     "output_type": "execute_result"
    }
   ],
   "source": [
    "cleaned_df.describe()"
   ]
  },
  {
   "cell_type": "markdown",
   "metadata": {
    "nbgrader": {
     "grade": false,
     "grade_id": "cccc445",
     "locked": true,
     "schema_version": 1,
     "solution": false
    }
   },
   "source": [
    "<p style=\"font-family: Arial; font-size:2.75vw;color:purple; font-style:bold\"><br>\n",
    "\n",
    "Exercise 3: Perform Scaling of input data<br><br></p>\n",
    "\n",
    "In the cell below, modify the function that takes three inputs: a dataframe D, a list of features F\n",
    "<br>\n",
    "The function should do the following:\n",
    "<br>\n",
    "- Pick out columns corresponding to features F from dataframe D\n",
    "- Use StandardScaler to perform scaling and return the scaled data frame"
   ]
  },
  {
   "cell_type": "code",
   "execution_count": 8,
   "metadata": {
    "nbgrader": {
     "grade": false,
     "grade_id": "c5552",
     "locked": false,
     "schema_version": 1,
     "solution": true
    },
    "scrolled": true
   },
   "outputs": [],
   "source": [
    "# modify this cell\n",
    "\n",
    "def scale_task(D, F):\n",
    "    ### BEGIN SOLUTION\n",
    "    df_copy = D.copy()\n",
    "    df_copy = df_copy[F]\n",
    "    X = StandardScaler().fit_transform(df_copy)  \n",
    "    return pd.DataFrame(X, columns=df_copy.columns)\n",
    "    ### END SOLUTION"
   ]
  },
  {
   "cell_type": "code",
   "execution_count": 9,
   "metadata": {
    "nbgrader": {
     "grade": true,
     "grade_id": "ex152",
     "locked": true,
     "points": 1,
     "schema_version": 1,
     "solution": false
    },
    "scrolled": true
   },
   "outputs": [],
   "source": [
    "# DO NOT MODIFY\n",
    "\n",
    "try: \n",
    "    features = ['air_pressure', 'air_temp', 'relative_humidity']\n",
    "    scaled_data = scale_task(cleaned_df, features)\n",
    "    assert np.allclose(scaled_data.mean(axis=0), 0)\n",
    "    assert np.allclose(scaled_data.std(axis=0),1, atol=1e-04)\n",
    "except AssertionError as e: print(\"Try again, your solution did not produce the expected output above\")"
   ]
  },
  {
   "cell_type": "markdown",
   "metadata": {
    "nbgrader": {
     "grade": false,
     "grade_id": "cv445",
     "locked": true,
     "schema_version": 1,
     "solution": false
    }
   },
   "source": [
    "<p style=\"font-family: Arial; font-size:2.75vw;color:purple; font-style:bold\"><br>\n",
    "\n",
    "Exercise 4: Perform Clustering<br><br></p>\n",
    "\n",
    "In the cell below, modify the function that takes two inputs: a dataframe D (already scaled using your previous function), and an integer for # of clusters to create N.\n",
    "<br>\n",
    "The function should do the following:\n",
    "<br>\n",
    "- Perform clustering using your algorithm of choice\n",
    "- Create N clusters\n",
    "- Return a **dataframe** of N rows, where each row is a cluster center."
   ]
  },
  {
   "cell_type": "code",
   "execution_count": 10,
   "metadata": {
    "nbgrader": {
     "grade": false,
     "grade_id": "c5553",
     "locked": false,
     "schema_version": 1,
     "solution": true
    },
    "scrolled": true
   },
   "outputs": [],
   "source": [
    "# modify this cell\n",
    "\n",
    "def clustering_task(D, N):\n",
    "    ### BEGIN SOLUTION\n",
    "    kmeans = KMeans(n_clusters=N)\n",
    "    model  = kmeans.fit(D)\n",
    "    return pd.DataFrame(model.cluster_centers_, columns=D.columns)\n",
    "    ### END SOLUTION"
   ]
  },
  {
   "cell_type": "code",
   "execution_count": 11,
   "metadata": {
    "nbgrader": {
     "grade": true,
     "grade_id": "ex153",
     "locked": true,
     "points": 1,
     "schema_version": 1,
     "solution": false
    },
    "scrolled": true
   },
   "outputs": [
    {
     "name": "stderr",
     "output_type": "stream",
     "text": [
      "C:\\Users\\Hasan\\anaconda3\\Lib\\site-packages\\sklearn\\cluster\\_kmeans.py:1416: FutureWarning: The default value of `n_init` will change from 10 to 'auto' in 1.4. Set the value of `n_init` explicitly to suppress the warning\n",
      "  super()._check_params_vs_input(X, default_n_init=10)\n"
     ]
    },
    {
     "name": "stdout",
     "output_type": "stream",
     "text": [
      "----------------------------------------\n",
      "       air_pressure  air_temp  relative_humidity\n",
      "count      3.000000  3.000000           3.000000\n",
      "mean       0.150029 -0.063170          -0.073985\n",
      "std        0.893172  0.903657           1.010831\n",
      "min       -0.480898 -0.890128          -0.803721\n",
      "25%       -0.360975 -0.545455          -0.650879\n",
      "50%       -0.241052 -0.200783          -0.498037\n",
      "75%        0.465493  0.350309           0.290882\n",
      "max        1.172037  0.901400           1.079802\n"
     ]
    }
   ],
   "source": [
    "# DO NOT MODIFY\n",
    "\n",
    "try: \n",
    "    ct = clustering_task(scaled_data, 3)\n",
    "    assert np.alltrue(ct.shape == (3, 3))\n",
    "except AssertionError as e: print(\"Keep trying - ensure all previous functions also work correctly \")\n",
    "\n",
    "try:\n",
    "    print(40*'-')\n",
    "    print(ct.describe())\n",
    "except AssertionError as e: print(\"Ensure clustering_task returns a Pandas dataframe\")"
   ]
  },
  {
   "cell_type": "code",
   "execution_count": null,
   "metadata": {
    "scrolled": true
   },
   "outputs": [],
   "source": []
  }
 ],
 "metadata": {
  "celltoolbar": "Create Assignment",
  "kernelspec": {
   "display_name": "Python 3 (ipykernel)",
   "language": "python",
   "name": "python3"
  },
  "language_info": {
   "codemirror_mode": {
    "name": "ipython",
    "version": 3
   },
   "file_extension": ".py",
   "mimetype": "text/x-python",
   "name": "python",
   "nbconvert_exporter": "python",
   "pygments_lexer": "ipython3",
   "version": "3.11.4"
  }
 },
 "nbformat": 4,
 "nbformat_minor": 2
}
